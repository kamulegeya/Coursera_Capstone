{
 "cells": [
  {
   "cell_type": "code",
   "execution_count": 181,
   "metadata": {},
   "outputs": [],
   "source": [
    "#import the python request library to query a website\n",
    "import requests\n",
    "import pandas as pd\n",
    "#specify the url we want to scrape from\n",
    "Link = 'https://en.wikipedia.org/wiki/List_of_postal_codes_of_Canada:_M'\n",
    "#convert the web page to text\n",
    "Link_text = requests.get(Link).text\n",
    "#print(Link_text)\n",
    "#import BautifulSoup library to pull data out of HTML and XML files\n",
    "from bs4 import BeautifulSoup\n",
    "#to convert Link_text into a BeautifulSoup Object\n",
    "soup = BeautifulSoup(Link_text, 'lxml')"
   ]
  },
  {
   "cell_type": "markdown",
   "metadata": {},
   "source": [
    "###### I have failed to identify which table has the data. I have decided to get all tables "
   ]
  },
  {
   "cell_type": "code",
   "execution_count": 182,
   "metadata": {},
   "outputs": [],
   "source": [
    "our_table = soup.find_all('table')"
   ]
  },
  {
   "cell_type": "markdown",
   "metadata": {},
   "source": [
    "#### It seems data i want is in the first table"
   ]
  },
  {
   "cell_type": "markdown",
   "metadata": {},
   "source": [
    "#### My approach\n",
    "1. Get data and put it in three different lists\n",
    "2. Use pandas to series method to convert the lists into pandas data frame\n",
    "3. Use regex to extract neiborhood data "
   ]
  },
  {
   "cell_type": "code",
   "execution_count": 207,
   "metadata": {},
   "outputs": [],
   "source": [
    "import re\n",
    "row_marker = 0\n",
    "## create an empty list\n",
    "list_post=[]  #list of postal coes\n",
    "list_address=[] # list of neiborhoods\n",
    "list_borough=[]\n",
    "for row in our_table[0].find_all('tr'):\n",
    "    column_marker = 0\n",
    "    columns = row.find_all('td')\n",
    "    for column in columns:\n",
    "            #Get the text\n",
    "            s=column.get_text().strip()\n",
    "            #print(s)\n",
    "            # here i remove where it contains the words \n",
    "            if 'Not assigned' not in s:\n",
    "                ## get post addrees 3 characters\n",
    "                t=s[:3].strip()\n",
    "                ## add it to the list.\n",
    "                list_post.append(t)\n",
    "                ## get the borough...the text before the blackets\n",
    "                ## from start to position of the first (\n",
    "                pos_b=int(s.find('('))\n",
    "                #print(pos_b)\n",
    "                if pos_b==-1:\n",
    "                    borough=s[3:]\n",
    "                else:\n",
    "                    borough=s[3:pos_b]\n",
    "                list_borough.append(borough)\n",
    "                ##get neiborhood(one in brackets)\n",
    "                address=re.findall(r'\\(.*?\\)',s)\n",
    "                ## remove the brackets\n",
    "                ## if address is an empty list? use the borough as per instructions\n",
    "                if len(address)==0:\n",
    "                    address=borough\n",
    "                    #print(address)\n",
    "                else:\n",
    "                    address=''.join(address).replace('(','').replace(')','')\n",
    "                    \n",
    "                list_address.append(address)\n",
    "                #list_boro.append(s)\n",
    "            column_marker += 1\n"
   ]
  },
  {
   "cell_type": "markdown",
   "metadata": {},
   "source": [
    "#### Below i created the data frame from the lists above"
   ]
  },
  {
   "cell_type": "code",
   "execution_count": 218,
   "metadata": {},
   "outputs": [],
   "source": [
    "df=pd.DataFrame()\n",
    "df['Postal Code']=pd.Series((i for i in list_post))\n",
    "df['Borough']=pd.Series((i for i in list_borough))\n",
    "df['Neighborhood']=pd.Series((i for i in list_address))\n"
   ]
  },
  {
   "cell_type": "code",
   "execution_count": 219,
   "metadata": {},
   "outputs": [
    {
     "data": {
      "text/html": [
       "<div>\n",
       "<style scoped>\n",
       "    .dataframe tbody tr th:only-of-type {\n",
       "        vertical-align: middle;\n",
       "    }\n",
       "\n",
       "    .dataframe tbody tr th {\n",
       "        vertical-align: top;\n",
       "    }\n",
       "\n",
       "    .dataframe thead th {\n",
       "        text-align: right;\n",
       "    }\n",
       "</style>\n",
       "<table border=\"1\" class=\"dataframe\">\n",
       "  <thead>\n",
       "    <tr style=\"text-align: right;\">\n",
       "      <th></th>\n",
       "      <th>Postal Code</th>\n",
       "      <th>Borough</th>\n",
       "      <th>Neighborhood</th>\n",
       "    </tr>\n",
       "  </thead>\n",
       "  <tbody>\n",
       "    <tr>\n",
       "      <th>0</th>\n",
       "      <td>M3A</td>\n",
       "      <td>North York</td>\n",
       "      <td>Parkwoods</td>\n",
       "    </tr>\n",
       "    <tr>\n",
       "      <th>1</th>\n",
       "      <td>M4A</td>\n",
       "      <td>North York</td>\n",
       "      <td>Victoria Village</td>\n",
       "    </tr>\n",
       "    <tr>\n",
       "      <th>2</th>\n",
       "      <td>M5A</td>\n",
       "      <td>Downtown Toronto</td>\n",
       "      <td>Regent Park / Harbourfront</td>\n",
       "    </tr>\n",
       "    <tr>\n",
       "      <th>3</th>\n",
       "      <td>M6A</td>\n",
       "      <td>North York</td>\n",
       "      <td>Lawrence Manor / Lawrence Heights</td>\n",
       "    </tr>\n",
       "    <tr>\n",
       "      <th>4</th>\n",
       "      <td>M7A</td>\n",
       "      <td>Queen's Park / Ontario Provincial Government</td>\n",
       "      <td>Queen's Park / Ontario Provincial Government</td>\n",
       "    </tr>\n",
       "  </tbody>\n",
       "</table>\n",
       "</div>"
      ],
      "text/plain": [
       "  Postal Code                                       Borough  \\\n",
       "0         M3A                                    North York   \n",
       "1         M4A                                    North York   \n",
       "2         M5A                              Downtown Toronto   \n",
       "3         M6A                                    North York   \n",
       "4         M7A  Queen's Park / Ontario Provincial Government   \n",
       "\n",
       "                                   Neighborhood  \n",
       "0                                     Parkwoods  \n",
       "1                              Victoria Village  \n",
       "2                    Regent Park / Harbourfront  \n",
       "3             Lawrence Manor / Lawrence Heights  \n",
       "4  Queen's Park / Ontario Provincial Government  "
      ]
     },
     "execution_count": 219,
     "metadata": {},
     "output_type": "execute_result"
    }
   ],
   "source": [
    "df.head()"
   ]
  },
  {
   "cell_type": "markdown",
   "metadata": {},
   "source": [
    "### Are there  neighborhoods with  one postal code area as suggested in the question?. The value counts below suggests otherwise!"
   ]
  },
  {
   "cell_type": "code",
   "execution_count": 190,
   "metadata": {},
   "outputs": [
    {
     "data": {
      "text/plain": [
       "M6P    1\n",
       "M7R    1\n",
       "M9C    1\n",
       "M1W    1\n",
       "M8Z    1\n",
       "M1B    1\n",
       "M4W    1\n",
       "M5B    1\n",
       "M6J    1\n",
       "M8Y    1\n",
       "M4R    1\n",
       "M5K    1\n",
       "M5H    1\n",
       "M2J    1\n",
       "M8X    1\n",
       "M6C    1\n",
       "M5L    1\n",
       "M7Y    1\n",
       "M1M    1\n",
       "M5X    1\n",
       "M2H    1\n",
       "M4S    1\n",
       "M5R    1\n",
       "M5C    1\n",
       "M1H    1\n",
       "M3K    1\n",
       "M9M    1\n",
       "M4K    1\n",
       "M2M    1\n",
       "M2K    1\n",
       "      ..\n",
       "M1L    1\n",
       "M1R    1\n",
       "M5J    1\n",
       "M4H    1\n",
       "M3A    1\n",
       "M9P    1\n",
       "M4L    1\n",
       "M7A    1\n",
       "M6H    1\n",
       "M1T    1\n",
       "M4Y    1\n",
       "M4N    1\n",
       "M5G    1\n",
       "M3J    1\n",
       "M3M    1\n",
       "M5T    1\n",
       "M4B    1\n",
       "M6S    1\n",
       "M6R    1\n",
       "M9R    1\n",
       "M5M    1\n",
       "M4E    1\n",
       "M3C    1\n",
       "M2L    1\n",
       "M1N    1\n",
       "M4V    1\n",
       "M2P    1\n",
       "M1E    1\n",
       "M1C    1\n",
       "M9B    1\n",
       "Name: postalCode, Length: 103, dtype: int64"
      ]
     },
     "execution_count": 190,
     "metadata": {},
     "output_type": "execute_result"
    }
   ],
   "source": [
    "df['postalCode'].value_counts()"
   ]
  },
  {
   "cell_type": "markdown",
   "metadata": {},
   "source": [
    "### Last part---printing rows only"
   ]
  },
  {
   "cell_type": "code",
   "execution_count": 209,
   "metadata": {},
   "outputs": [
    {
     "name": "stdout",
     "output_type": "stream",
     "text": [
      "103\n"
     ]
    }
   ],
   "source": [
    "print(df.shape[0])"
   ]
  },
  {
   "cell_type": "markdown",
   "metadata": {},
   "source": [
    "### Opted to use the provided data set to take advantage of panda merging functions!"
   ]
  },
  {
   "cell_type": "code",
   "execution_count": 210,
   "metadata": {},
   "outputs": [],
   "source": [
    "## Got data from link provided into a data frame!\n",
    "df1=pd.read_csv('https://cocl.us/Geospatial_data')"
   ]
  },
  {
   "cell_type": "code",
   "execution_count": 214,
   "metadata": {},
   "outputs": [
    {
     "data": {
      "text/plain": [
       "Index(['Postal Code', 'Latitude', 'Longitude'], dtype='object')"
      ]
     },
     "execution_count": 214,
     "metadata": {},
     "output_type": "execute_result"
    }
   ],
   "source": [
    "df1.columns"
   ]
  },
  {
   "cell_type": "code",
   "execution_count": 220,
   "metadata": {},
   "outputs": [],
   "source": [
    "combined =df.merge(df1)\n",
    "   "
   ]
  },
  {
   "cell_type": "code",
   "execution_count": 222,
   "metadata": {},
   "outputs": [
    {
     "data": {
      "text/html": [
       "<div>\n",
       "<style scoped>\n",
       "    .dataframe tbody tr th:only-of-type {\n",
       "        vertical-align: middle;\n",
       "    }\n",
       "\n",
       "    .dataframe tbody tr th {\n",
       "        vertical-align: top;\n",
       "    }\n",
       "\n",
       "    .dataframe thead th {\n",
       "        text-align: right;\n",
       "    }\n",
       "</style>\n",
       "<table border=\"1\" class=\"dataframe\">\n",
       "  <thead>\n",
       "    <tr style=\"text-align: right;\">\n",
       "      <th></th>\n",
       "      <th>Postal Code</th>\n",
       "      <th>Borough</th>\n",
       "      <th>Neighborhood</th>\n",
       "      <th>Latitude</th>\n",
       "      <th>Longitude</th>\n",
       "    </tr>\n",
       "  </thead>\n",
       "  <tbody>\n",
       "    <tr>\n",
       "      <th>0</th>\n",
       "      <td>M3A</td>\n",
       "      <td>North York</td>\n",
       "      <td>Parkwoods</td>\n",
       "      <td>43.753259</td>\n",
       "      <td>-79.329656</td>\n",
       "    </tr>\n",
       "    <tr>\n",
       "      <th>1</th>\n",
       "      <td>M4A</td>\n",
       "      <td>North York</td>\n",
       "      <td>Victoria Village</td>\n",
       "      <td>43.725882</td>\n",
       "      <td>-79.315572</td>\n",
       "    </tr>\n",
       "    <tr>\n",
       "      <th>2</th>\n",
       "      <td>M5A</td>\n",
       "      <td>Downtown Toronto</td>\n",
       "      <td>Regent Park / Harbourfront</td>\n",
       "      <td>43.654260</td>\n",
       "      <td>-79.360636</td>\n",
       "    </tr>\n",
       "    <tr>\n",
       "      <th>3</th>\n",
       "      <td>M6A</td>\n",
       "      <td>North York</td>\n",
       "      <td>Lawrence Manor / Lawrence Heights</td>\n",
       "      <td>43.718518</td>\n",
       "      <td>-79.464763</td>\n",
       "    </tr>\n",
       "    <tr>\n",
       "      <th>4</th>\n",
       "      <td>M7A</td>\n",
       "      <td>Queen's Park / Ontario Provincial Government</td>\n",
       "      <td>Queen's Park / Ontario Provincial Government</td>\n",
       "      <td>43.662301</td>\n",
       "      <td>-79.389494</td>\n",
       "    </tr>\n",
       "  </tbody>\n",
       "</table>\n",
       "</div>"
      ],
      "text/plain": [
       "  Postal Code                                       Borough  \\\n",
       "0         M3A                                    North York   \n",
       "1         M4A                                    North York   \n",
       "2         M5A                              Downtown Toronto   \n",
       "3         M6A                                    North York   \n",
       "4         M7A  Queen's Park / Ontario Provincial Government   \n",
       "\n",
       "                                   Neighborhood   Latitude  Longitude  \n",
       "0                                     Parkwoods  43.753259 -79.329656  \n",
       "1                              Victoria Village  43.725882 -79.315572  \n",
       "2                    Regent Park / Harbourfront  43.654260 -79.360636  \n",
       "3             Lawrence Manor / Lawrence Heights  43.718518 -79.464763  \n",
       "4  Queen's Park / Ontario Provincial Government  43.662301 -79.389494  "
      ]
     },
     "execution_count": 222,
     "metadata": {},
     "output_type": "execute_result"
    }
   ],
   "source": [
    "combined.head(5)"
   ]
  },
  {
   "cell_type": "code",
   "execution_count": null,
   "metadata": {},
   "outputs": [],
   "source": []
  }
 ],
 "metadata": {
  "kernelspec": {
   "display_name": "Python 3",
   "language": "python",
   "name": "python3"
  },
  "language_info": {
   "codemirror_mode": {
    "name": "ipython",
    "version": 3
   },
   "file_extension": ".py",
   "mimetype": "text/x-python",
   "name": "python",
   "nbconvert_exporter": "python",
   "pygments_lexer": "ipython3",
   "version": "3.7.3"
  }
 },
 "nbformat": 4,
 "nbformat_minor": 2
}
