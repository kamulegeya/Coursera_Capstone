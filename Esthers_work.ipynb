{
 "cells": [
  {
   "cell_type": "code",
   "execution_count": 49,
   "id": "5aeb2dc5",
   "metadata": {},
   "outputs": [],
   "source": [
    "import pandas as pd"
   ]
  },
  {
   "cell_type": "code",
   "execution_count": 50,
   "id": "1114878d",
   "metadata": {},
   "outputs": [],
   "source": [
    "%matplotlib inline\n",
    "import matplotlib as mpl\n",
    "import matplotlib.pyplot as plt\n",
    "mpl.style.use('ggplot') # optional: for ggplot-like style"
   ]
  },
  {
   "cell_type": "code",
   "execution_count": 51,
   "id": "be133ead",
   "metadata": {},
   "outputs": [
    {
     "data": {
      "text/plain": [
       "Index(['item_Name', 'UOM', 'IS GROUP AFRICA', 'Eddlust Concepts Ltd',\n",
       "       'Bhoomi Supply Ltd', 'Great Lakes Trading Tropical Co. Ltd',\n",
       "       'ECA Supplies and Services Ltd', 'Design Series & Supplies Limited',\n",
       "       'kisco International Ltd', 'M/s Office Automation & Equipment Ltd',\n",
       "       'M/s Megaline Agencies Limited', 'M/s JTM Business Solutions Limited',\n",
       "       'M/s Shreeji Stationers 2009 (U) Limited',\n",
       "       'M/s Janine Services Limited',\n",
       "       'M/s Alpha Office Solutions Enterprises Ltd',\n",
       "       'M/s Julian Emmie Solutions'],\n",
       "      dtype='object')"
      ]
     },
     "execution_count": 51,
     "metadata": {},
     "output_type": "execute_result"
    }
   ],
   "source": [
    "df=pd.read_excel(r'D:\\esther.xlsx')\n",
    "df.columns"
   ]
  },
  {
   "cell_type": "code",
   "execution_count": 52,
   "id": "adf8b704",
   "metadata": {},
   "outputs": [
    {
     "data": {
      "text/plain": [
       "['IS GROUP AFRICA',\n",
       " 'Eddlust Concepts Ltd',\n",
       " 'Bhoomi Supply Ltd',\n",
       " 'Great Lakes Trading Tropical Co. Ltd',\n",
       " 'ECA Supplies and Services Ltd',\n",
       " 'Design Series & Supplies Limited',\n",
       " 'kisco International Ltd',\n",
       " 'M/s Office Automation & Equipment Ltd',\n",
       " 'M/s Megaline Agencies Limited',\n",
       " 'M/s JTM Business Solutions Limited',\n",
       " 'M/s Shreeji Stationers 2009 (U) Limited',\n",
       " 'M/s Janine Services Limited',\n",
       " 'M/s Alpha Office Solutions Enterprises Ltd',\n",
       " 'M/s Julian Emmie Solutions']"
      ]
     },
     "execution_count": 52,
     "metadata": {},
     "output_type": "execute_result"
    }
   ],
   "source": [
    "cols=list(df.columns)[2:]\n",
    "cols"
   ]
  },
  {
   "cell_type": "code",
   "execution_count": 53,
   "id": "ed805593",
   "metadata": {},
   "outputs": [
    {
     "data": {
      "text/html": [
       "<div>\n",
       "<style scoped>\n",
       "    .dataframe tbody tr th:only-of-type {\n",
       "        vertical-align: middle;\n",
       "    }\n",
       "\n",
       "    .dataframe tbody tr th {\n",
       "        vertical-align: top;\n",
       "    }\n",
       "\n",
       "    .dataframe thead th {\n",
       "        text-align: right;\n",
       "    }\n",
       "</style>\n",
       "<table border=\"1\" class=\"dataframe\">\n",
       "  <thead>\n",
       "    <tr style=\"text-align: right;\">\n",
       "      <th></th>\n",
       "      <th>item_name</th>\n",
       "      <th>UOM</th>\n",
       "      <th>Company</th>\n",
       "      <th>Rate</th>\n",
       "    </tr>\n",
       "  </thead>\n",
       "  <tbody>\n",
       "    <tr>\n",
       "      <th>0</th>\n",
       "      <td>Photocopying papers:  - Size A4, White in colo...</td>\n",
       "      <td>Ream</td>\n",
       "      <td>IS GROUP AFRICA</td>\n",
       "      <td>23760</td>\n",
       "    </tr>\n",
       "    <tr>\n",
       "      <th>1</th>\n",
       "      <td>Photocopying  papers - Size A3, White in colou...</td>\n",
       "      <td>Ream</td>\n",
       "      <td>IS GROUP AFRICA</td>\n",
       "      <td>33000</td>\n",
       "    </tr>\n",
       "    <tr>\n",
       "      <th>2</th>\n",
       "      <td>Duplicating Papers- Size A4</td>\n",
       "      <td>Ream</td>\n",
       "      <td>IS GROUP AFRICA</td>\n",
       "      <td>23760</td>\n",
       "    </tr>\n",
       "    <tr>\n",
       "      <th>3</th>\n",
       "      <td>Ruled papers –Size A4</td>\n",
       "      <td>Ream</td>\n",
       "      <td>IS GROUP AFRICA</td>\n",
       "      <td>19800</td>\n",
       "    </tr>\n",
       "    <tr>\n",
       "      <th>4</th>\n",
       "      <td>Cabinet papers- Pink in colour- Size A4, 80 g/m2</td>\n",
       "      <td>Ream</td>\n",
       "      <td>IS GROUP AFRICA</td>\n",
       "      <td>39600</td>\n",
       "    </tr>\n",
       "  </tbody>\n",
       "</table>\n",
       "</div>"
      ],
      "text/plain": [
       "                                           item_name   UOM          Company  \\\n",
       "0  Photocopying papers:  - Size A4, White in colo...  Ream  IS GROUP AFRICA   \n",
       "1  Photocopying  papers - Size A3, White in colou...  Ream  IS GROUP AFRICA   \n",
       "2                        Duplicating Papers- Size A4  Ream  IS GROUP AFRICA   \n",
       "3                              Ruled papers –Size A4  Ream  IS GROUP AFRICA   \n",
       "4  Cabinet papers- Pink in colour- Size A4, 80 g/m2   Ream  IS GROUP AFRICA   \n",
       "\n",
       "    Rate  \n",
       "0  23760  \n",
       "1  33000  \n",
       "2  23760  \n",
       "3  19800  \n",
       "4  39600  "
      ]
     },
     "execution_count": 53,
     "metadata": {},
     "output_type": "execute_result"
    }
   ],
   "source": [
    "##use melt function to turn data into a normalised format\n",
    "df1 = pd.melt(df, id_vars=['item_Name', 'UOM'], value_vars=cols)\n",
    "### we put column namws \n",
    "col_n=[\"item_name\",\"UOM\",\"Company\",\"Rate\"]\n",
    "df1.columns=col_n\n",
    "#df1.head()\n",
    "df1.head()"
   ]
  },
  {
   "cell_type": "code",
   "execution_count": 54,
   "id": "5f169d75",
   "metadata": {},
   "outputs": [],
   "source": [
    "df1['Rank'] = df1.groupby(['item_name'])['Rate'].rank(method='dense', ascending=True)"
   ]
  },
  {
   "cell_type": "code",
   "execution_count": 55,
   "id": "2a02455e",
   "metadata": {},
   "outputs": [
    {
     "data": {
      "text/html": [
       "<div>\n",
       "<style scoped>\n",
       "    .dataframe tbody tr th:only-of-type {\n",
       "        vertical-align: middle;\n",
       "    }\n",
       "\n",
       "    .dataframe tbody tr th {\n",
       "        vertical-align: top;\n",
       "    }\n",
       "\n",
       "    .dataframe thead th {\n",
       "        text-align: right;\n",
       "    }\n",
       "</style>\n",
       "<table border=\"1\" class=\"dataframe\">\n",
       "  <thead>\n",
       "    <tr style=\"text-align: right;\">\n",
       "      <th></th>\n",
       "      <th>item_name</th>\n",
       "      <th>UOM</th>\n",
       "      <th>Company</th>\n",
       "      <th>Rate</th>\n",
       "      <th>Rank</th>\n",
       "    </tr>\n",
       "  </thead>\n",
       "  <tbody>\n",
       "    <tr>\n",
       "      <th>1479</th>\n",
       "      <td>Archive Boxes</td>\n",
       "      <td>Piece</td>\n",
       "      <td>M/s Julian Emmie Solutions</td>\n",
       "      <td>32400</td>\n",
       "      <td>7.0</td>\n",
       "    </tr>\n",
       "    <tr>\n",
       "      <th>1480</th>\n",
       "      <td>Pair of Scissors</td>\n",
       "      <td>Piece</td>\n",
       "      <td>M/s Julian Emmie Solutions</td>\n",
       "      <td>54000</td>\n",
       "      <td>9.0</td>\n",
       "    </tr>\n",
       "    <tr>\n",
       "      <th>1481</th>\n",
       "      <td>Hard Disks  2 Tele bite</td>\n",
       "      <td>piece</td>\n",
       "      <td>M/s Julian Emmie Solutions</td>\n",
       "      <td>432000</td>\n",
       "      <td>6.0</td>\n",
       "    </tr>\n",
       "    <tr>\n",
       "      <th>1482</th>\n",
       "      <td>Hard Disks 1 Tele bite</td>\n",
       "      <td>piece</td>\n",
       "      <td>M/s Julian Emmie Solutions</td>\n",
       "      <td>345600</td>\n",
       "      <td>6.0</td>\n",
       "    </tr>\n",
       "    <tr>\n",
       "      <th>1483</th>\n",
       "      <td>Rapid, Executive PVC, Spring File, A4,</td>\n",
       "      <td>piece</td>\n",
       "      <td>M/s Julian Emmie Solutions</td>\n",
       "      <td>2500</td>\n",
       "      <td>4.0</td>\n",
       "    </tr>\n",
       "  </tbody>\n",
       "</table>\n",
       "</div>"
      ],
      "text/plain": [
       "                                   item_name    UOM  \\\n",
       "1479                           Archive Boxes  Piece   \n",
       "1480                        Pair of Scissors  Piece   \n",
       "1481                 Hard Disks  2 Tele bite  piece   \n",
       "1482                 Hard Disks 1 Tele bite   piece   \n",
       "1483  Rapid, Executive PVC, Spring File, A4,  piece   \n",
       "\n",
       "                         Company    Rate  Rank  \n",
       "1479  M/s Julian Emmie Solutions   32400   7.0  \n",
       "1480  M/s Julian Emmie Solutions   54000   9.0  \n",
       "1481  M/s Julian Emmie Solutions  432000   6.0  \n",
       "1482  M/s Julian Emmie Solutions  345600   6.0  \n",
       "1483  M/s Julian Emmie Solutions    2500   4.0  "
      ]
     },
     "execution_count": 55,
     "metadata": {},
     "output_type": "execute_result"
    }
   ],
   "source": [
    "df1.tail()"
   ]
  },
  {
   "cell_type": "code",
   "execution_count": 56,
   "id": "1e93dc43",
   "metadata": {},
   "outputs": [],
   "source": [
    "df1=df1.sort_values('item_name')\n",
    "df1.to_excel(r'D:\\esther4.xlsx')"
   ]
  }
 ],
 "metadata": {
  "kernelspec": {
   "display_name": "Python 3 (ipykernel)",
   "language": "python",
   "name": "python3"
  },
  "language_info": {
   "codemirror_mode": {
    "name": "ipython",
    "version": 3
   },
   "file_extension": ".py",
   "mimetype": "text/x-python",
   "name": "python",
   "nbconvert_exporter": "python",
   "pygments_lexer": "ipython3",
   "version": "3.11.5"
  }
 },
 "nbformat": 4,
 "nbformat_minor": 5
}
